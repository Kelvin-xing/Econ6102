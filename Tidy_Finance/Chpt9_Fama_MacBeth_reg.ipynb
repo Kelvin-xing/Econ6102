{
 "cells": [
  {
   "cell_type": "code",
   "execution_count": 1,
   "metadata": {},
   "outputs": [],
   "source": [
    "## From Tidy Finance https://www.tidy-finance.org/python/fama-macbeth-regressions.html\n",
    "import pandas as pd\n",
    "import numpy as np\n",
    "import sqlite3\n",
    "import statsmodels.formula.api as smf"
   ]
  },
  {
   "cell_type": "code",
   "execution_count": 2,
   "metadata": {},
   "outputs": [
    {
     "ename": "OperationalError",
     "evalue": "unable to open database file",
     "output_type": "error",
     "traceback": [
      "\u001b[0;31m---------------------------------------------------------------------------\u001b[0m",
      "\u001b[0;31mOperationalError\u001b[0m                          Traceback (most recent call last)",
      "Cell \u001b[0;32mIn [2], line 2\u001b[0m\n\u001b[1;32m      1\u001b[0m \u001b[38;5;66;03m# Data prep\u001b[39;00m\n\u001b[0;32m----> 2\u001b[0m tidy_finance \u001b[38;5;241m=\u001b[39m \u001b[43msqlite3\u001b[49m\u001b[38;5;241;43m.\u001b[39;49m\u001b[43mconnect\u001b[49m\u001b[43m(\u001b[49m\u001b[43mdatabase\u001b[49m\u001b[38;5;241;43m=\u001b[39;49m\u001b[38;5;124;43m\"\u001b[39;49m\u001b[38;5;124;43mdata/tidy_finance_python.sqlite\u001b[39;49m\u001b[38;5;124;43m\"\u001b[39;49m\u001b[43m)\u001b[49m\n\u001b[1;32m      4\u001b[0m crsp_monthly \u001b[38;5;241m=\u001b[39m pd\u001b[38;5;241m.\u001b[39mread_sql_query(\n\u001b[1;32m      5\u001b[0m   sql\u001b[38;5;241m=\u001b[39m\u001b[38;5;124m\"\u001b[39m\u001b[38;5;124mSELECT permno, gvkey, month, ret_excess, mktcap FROM crsp_monthly\u001b[39m\u001b[38;5;124m\"\u001b[39m,\n\u001b[1;32m      6\u001b[0m   con\u001b[38;5;241m=\u001b[39mtidy_finance,\n\u001b[1;32m      7\u001b[0m   parse_dates\u001b[38;5;241m=\u001b[39m{\u001b[38;5;124m\"\u001b[39m\u001b[38;5;124mmonth\u001b[39m\u001b[38;5;124m\"\u001b[39m}\n\u001b[1;32m      8\u001b[0m )\n\u001b[1;32m     10\u001b[0m compustat \u001b[38;5;241m=\u001b[39m pd\u001b[38;5;241m.\u001b[39mread_sql_query(\n\u001b[1;32m     11\u001b[0m   sql\u001b[38;5;241m=\u001b[39m\u001b[38;5;124m\"\u001b[39m\u001b[38;5;124mSELECT datadate, gvkey, be FROM compustat\u001b[39m\u001b[38;5;124m\"\u001b[39m,\n\u001b[1;32m     12\u001b[0m   con\u001b[38;5;241m=\u001b[39mtidy_finance,\n\u001b[1;32m     13\u001b[0m   parse_dates\u001b[38;5;241m=\u001b[39m{\u001b[38;5;124m\"\u001b[39m\u001b[38;5;124mdatadate\u001b[39m\u001b[38;5;124m\"\u001b[39m}\n\u001b[1;32m     14\u001b[0m )\n",
      "\u001b[0;31mOperationalError\u001b[0m: unable to open database file"
     ]
    }
   ],
   "source": [
    "# Data prep\n",
    "tidy_finance = sqlite3.connect(database=\"data/tidy_finance_python.sqlite\")\n",
    "\n",
    "crsp_monthly = pd.read_sql_query(\n",
    "  sql=\"SELECT permno, gvkey, month, ret_excess, mktcap FROM crsp_monthly\",\n",
    "  con=tidy_finance,\n",
    "  parse_dates={\"month\"}\n",
    ")\n",
    "\n",
    "compustat = pd.read_sql_query(\n",
    "  sql=\"SELECT datadate, gvkey, be FROM compustat\",\n",
    "  con=tidy_finance,\n",
    "  parse_dates={\"datadate\"}\n",
    ")\n",
    "\n",
    "beta = pd.read_sql_query(\n",
    "  sql=\"SELECT month, permno, beta_monthly FROM beta\",\n",
    "  con=tidy_finance,\n",
    "  parse_dates={\"month\"}\n",
    ")"
   ]
  },
  {
   "cell_type": "code",
   "execution_count": null,
   "metadata": {},
   "outputs": [],
   "source": [
    "# panel creation\n",
    "characteristics = (compustat\n",
    "  .assign(month=lambda x: x[\"datadate\"].dt.to_period(\"M\").dt.to_timestamp())\n",
    "  .merge(crsp_monthly, how=\"left\", on=[\"gvkey\", \"month\"], )\n",
    "  .merge(beta, how=\"left\", on=[\"permno\", \"month\"])\n",
    "  .assign(\n",
    "    bm=lambda x: x[\"be\"]/x[\"mktcap\"],\n",
    "    log_mktcap=lambda x: np.log(x[\"mktcap\"]),\n",
    "    sorting_date=lambda x: x[\"month\"]+pd.DateOffset(months=6)\n",
    "  )\n",
    "  .get([\"gvkey\", \"bm\", \"log_mktcap\", \"beta_monthly\", \"sorting_date\"])\n",
    "  .rename(columns={\"beta_monthly\": \"beta\"})\n",
    ")\n",
    "\n",
    "data_fama_macbeth = (crsp_monthly\n",
    "  .merge(characteristics, \n",
    "         how=\"left\",\n",
    "         left_on=[\"gvkey\", \"month\"], right_on=[\"gvkey\", \"sorting_date\"])\n",
    "  .sort_values([\"month\", \"permno\"])\n",
    "  .groupby(\"permno\")\n",
    "  .apply(lambda x: x.assign(\n",
    "      beta=x[\"beta\"].fillna(method=\"ffill\"),\n",
    "      bm=x[\"bm\"].fillna(method=\"ffill\"),\n",
    "      log_mktcap=x[\"log_mktcap\"].fillna(method=\"ffill\")\n",
    "    )\n",
    "  )\n",
    "  .reset_index(drop=True)  \n",
    ")\n",
    "\n",
    "data_fama_macbeth_lagged = (data_fama_macbeth\n",
    "  .assign(month=lambda x: x[\"month\"]-pd.DateOffset(months=1))\n",
    "  .get([\"permno\", \"month\", \"ret_excess\"])\n",
    "  .rename(columns={\"ret_excess\": \"ret_excess_lead\"})\n",
    ")\n",
    "\n",
    "data_fama_macbeth = (data_fama_macbeth\n",
    "  .merge(data_fama_macbeth_lagged, how=\"left\", on=[\"permno\", \"month\"])\n",
    "  .get([\"permno\", \"month\", \"ret_excess_lead\", \"beta\", \"log_mktcap\", \"bm\"])\n",
    "  .dropna()\n",
    ")"
   ]
  },
  {
   "cell_type": "code",
   "execution_count": null,
   "metadata": {},
   "outputs": [],
   "source": [
    "# cross-sectional reg\n",
    "risk_premiums = (data_fama_macbeth\n",
    "  .groupby(\"month\")\n",
    "  .apply(lambda x: smf.ols(\n",
    "      formula=\"ret_excess_lead ~ beta + log_mktcap + bm\", \n",
    "      data=x\n",
    "    ).fit()\n",
    "    .params\n",
    "  )\n",
    "  .reset_index()\n",
    ")"
   ]
  },
  {
   "cell_type": "code",
   "execution_count": null,
   "metadata": {},
   "outputs": [],
   "source": [
    "# time-series agg\n",
    "price_of_risk = (risk_premiums\n",
    "  .melt(id_vars=\"month\", var_name=\"factor\", value_name=\"estimate\")\n",
    "  .groupby(\"factor\")[\"estimate\"]\n",
    "  .apply(lambda x: pd.Series({\n",
    "      \"risk_premium\": 100*x.mean(),\n",
    "      \"t_statistic\": x.mean()/x.std()*np.sqrt(len(x))\n",
    "    })\n",
    "  )\n",
    "  .reset_index()\n",
    "  .pivot(index=\"factor\", columns=\"level_1\", values=\"estimate\")\n",
    "  .reset_index()\n",
    ")"
   ]
  },
  {
   "cell_type": "code",
   "execution_count": null,
   "metadata": {},
   "outputs": [],
   "source": [
    "# adjust for autocorrelation\n",
    "price_of_risk_newey_west = (risk_premiums\n",
    "  .melt(id_vars=\"month\", var_name=\"factor\", value_name=\"estimate\")\n",
    "  .groupby(\"factor\")\n",
    "  .apply(lambda x: (\n",
    "      x[\"estimate\"].mean()/ \n",
    "        smf.ols(\"estimate ~ 1\", x)\n",
    "        .fit(cov_type=\"HAC\", cov_kwds={\"maxlags\": 6}).bse\n",
    "    )\n",
    "  )\n",
    "  .reset_index()\n",
    "  .rename(columns={\"Intercept\": \"t_statistic_newey_west\"})\n",
    ")\n",
    "\n",
    "(price_of_risk\n",
    "  .merge(price_of_risk_newey_west, on=\"factor\")\n",
    "  .round(3)\n",
    ")"
   ]
  }
 ],
 "metadata": {
  "kernelspec": {
   "display_name": "Python 3",
   "language": "python",
   "name": "python3"
  },
  "language_info": {
   "codemirror_mode": {
    "name": "ipython",
    "version": 3
   },
   "file_extension": ".py",
   "mimetype": "text/x-python",
   "name": "python",
   "nbconvert_exporter": "python",
   "pygments_lexer": "ipython3",
   "version": "3.11.0"
  }
 },
 "nbformat": 4,
 "nbformat_minor": 2
}
