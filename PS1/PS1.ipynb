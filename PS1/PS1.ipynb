{
 "cells": [
  {
   "cell_type": "code",
   "execution_count": 3,
   "metadata": {},
   "outputs": [],
   "source": [
    "## import libraries\n",
    "import numpy as np\n",
    "import pandas as pd\n",
    "import matplotlib.pyplot as plt\n",
    "import seaborn as sns\n",
    "from sklearn.model_selection import train_test_split\n",
    "from sklearn.linear_model import LinearRegression\n",
    "from sklearn.linear_model import LassoCV\n",
    "from sklearn.metrics import mean_squared_error\n",
    "import zipfile\n"
   ]
  },
  {
   "cell_type": "code",
   "execution_count": 4,
   "metadata": {},
   "outputs": [],
   "source": [
    "## data extraction\n",
    "zip_path = \"Data-20240401.zip\"\n",
    "\n",
    "with zipfile.ZipFile(zip_path, 'r') as zip:\n",
    "    zip.extractall()\n",
    "\n",
    "FF5 = pd.read_csv('FF5_2000_2022.csv')\n",
    "CRSP = pd.read_csv('CRSP_2000_2022.csv')\n",
    "PS = pd.read_csv('PS_2000_2022.csv')\n",
    "HXZ5 = pd.read_csv('HXZ5_2000_2022.csv')\n"
   ]
  },
  {
   "cell_type": "code",
   "execution_count": 12,
   "metadata": {},
   "outputs": [
    {
     "data": {
      "text/html": [
       "<div>\n",
       "<style scoped>\n",
       "    .dataframe tbody tr th:only-of-type {\n",
       "        vertical-align: middle;\n",
       "    }\n",
       "\n",
       "    .dataframe tbody tr th {\n",
       "        vertical-align: top;\n",
       "    }\n",
       "\n",
       "    .dataframe thead th {\n",
       "        text-align: right;\n",
       "    }\n",
       "</style>\n",
       "<table border=\"1\" class=\"dataframe\">\n",
       "  <thead>\n",
       "    <tr style=\"text-align: right;\">\n",
       "      <th></th>\n",
       "      <th>R_F</th>\n",
       "      <th>R_MKT</th>\n",
       "      <th>R_ME</th>\n",
       "      <th>R_IA</th>\n",
       "      <th>R_ROE</th>\n",
       "      <th>R_EG</th>\n",
       "      <th>YYYYMM</th>\n",
       "    </tr>\n",
       "  </thead>\n",
       "  <tbody>\n",
       "    <tr>\n",
       "      <th>count</th>\n",
       "      <td>276.000000</td>\n",
       "      <td>276.000000</td>\n",
       "      <td>276.000000</td>\n",
       "      <td>276.000000</td>\n",
       "      <td>276.000000</td>\n",
       "      <td>276.000000</td>\n",
       "      <td>276.000000</td>\n",
       "    </tr>\n",
       "    <tr>\n",
       "      <th>mean</th>\n",
       "      <td>0.122690</td>\n",
       "      <td>0.506418</td>\n",
       "      <td>0.334379</td>\n",
       "      <td>0.310799</td>\n",
       "      <td>0.344957</td>\n",
       "      <td>0.458129</td>\n",
       "      <td>201106.500000</td>\n",
       "    </tr>\n",
       "    <tr>\n",
       "      <th>std</th>\n",
       "      <td>0.146135</td>\n",
       "      <td>4.630938</td>\n",
       "      <td>3.185225</td>\n",
       "      <td>2.340693</td>\n",
       "      <td>3.135942</td>\n",
       "      <td>2.441336</td>\n",
       "      <td>664.538908</td>\n",
       "    </tr>\n",
       "    <tr>\n",
       "      <th>min</th>\n",
       "      <td>-0.003700</td>\n",
       "      <td>-17.177900</td>\n",
       "      <td>-14.402000</td>\n",
       "      <td>-7.128500</td>\n",
       "      <td>-14.372600</td>\n",
       "      <td>-9.703200</td>\n",
       "      <td>200001.000000</td>\n",
       "    </tr>\n",
       "    <tr>\n",
       "      <th>25%</th>\n",
       "      <td>0.004600</td>\n",
       "      <td>-2.024950</td>\n",
       "      <td>-1.574600</td>\n",
       "      <td>-1.065325</td>\n",
       "      <td>-0.974950</td>\n",
       "      <td>-0.812350</td>\n",
       "      <td>200509.750000</td>\n",
       "    </tr>\n",
       "    <tr>\n",
       "      <th>50%</th>\n",
       "      <td>0.071100</td>\n",
       "      <td>1.137350</td>\n",
       "      <td>0.305000</td>\n",
       "      <td>0.045700</td>\n",
       "      <td>0.498000</td>\n",
       "      <td>0.340050</td>\n",
       "      <td>201106.500000</td>\n",
       "    </tr>\n",
       "    <tr>\n",
       "      <th>75%</th>\n",
       "      <td>0.187425</td>\n",
       "      <td>3.244400</td>\n",
       "      <td>2.202025</td>\n",
       "      <td>1.468025</td>\n",
       "      <td>1.666050</td>\n",
       "      <td>1.516750</td>\n",
       "      <td>201703.250000</td>\n",
       "    </tr>\n",
       "    <tr>\n",
       "      <th>max</th>\n",
       "      <td>0.524300</td>\n",
       "      <td>13.589200</td>\n",
       "      <td>22.144500</td>\n",
       "      <td>10.470900</td>\n",
       "      <td>10.359300</td>\n",
       "      <td>11.830700</td>\n",
       "      <td>202212.000000</td>\n",
       "    </tr>\n",
       "  </tbody>\n",
       "</table>\n",
       "</div>"
      ],
      "text/plain": [
       "              R_F       R_MKT        R_ME        R_IA       R_ROE        R_EG  \\\n",
       "count  276.000000  276.000000  276.000000  276.000000  276.000000  276.000000   \n",
       "mean     0.122690    0.506418    0.334379    0.310799    0.344957    0.458129   \n",
       "std      0.146135    4.630938    3.185225    2.340693    3.135942    2.441336   \n",
       "min     -0.003700  -17.177900  -14.402000   -7.128500  -14.372600   -9.703200   \n",
       "25%      0.004600   -2.024950   -1.574600   -1.065325   -0.974950   -0.812350   \n",
       "50%      0.071100    1.137350    0.305000    0.045700    0.498000    0.340050   \n",
       "75%      0.187425    3.244400    2.202025    1.468025    1.666050    1.516750   \n",
       "max      0.524300   13.589200   22.144500   10.470900   10.359300   11.830700   \n",
       "\n",
       "              YYYYMM  \n",
       "count     276.000000  \n",
       "mean   201106.500000  \n",
       "std       664.538908  \n",
       "min    200001.000000  \n",
       "25%    200509.750000  \n",
       "50%    201106.500000  \n",
       "75%    201703.250000  \n",
       "max    202212.000000  "
      ]
     },
     "execution_count": 12,
     "metadata": {},
     "output_type": "execute_result"
    }
   ],
   "source": []
  },
  {
   "cell_type": "markdown",
   "metadata": {},
   "source": [
    "# 1 (Navie) Factor Regression\n",
    "rolling-window regression:$$R_{i,t} = \\alpha + \\sum \\beta_{i,j} F_{j,t} + \\varepsilon_{i,t}$$"
   ]
  },
  {
   "cell_type": "code",
   "execution_count": null,
   "metadata": {},
   "outputs": [],
   "source": []
  },
  {
   "cell_type": "markdown",
   "metadata": {},
   "source": [
    "# 2 Fama-MacBeth Regression"
   ]
  },
  {
   "cell_type": "code",
   "execution_count": null,
   "metadata": {},
   "outputs": [],
   "source": []
  },
  {
   "cell_type": "markdown",
   "metadata": {},
   "source": [
    "# 3 LASSO Regression"
   ]
  },
  {
   "cell_type": "code",
   "execution_count": null,
   "metadata": {},
   "outputs": [],
   "source": []
  },
  {
   "cell_type": "markdown",
   "metadata": {},
   "source": [
    "# 4 Mean-Variance Portfolio"
   ]
  },
  {
   "cell_type": "code",
   "execution_count": null,
   "metadata": {},
   "outputs": [],
   "source": []
  }
 ],
 "metadata": {
  "kernelspec": {
   "display_name": "Python 3",
   "language": "python",
   "name": "python3"
  },
  "language_info": {
   "codemirror_mode": {
    "name": "ipython",
    "version": 3
   },
   "file_extension": ".py",
   "mimetype": "text/x-python",
   "name": "python",
   "nbconvert_exporter": "python",
   "pygments_lexer": "ipython3",
   "version": "3.11.0"
  }
 },
 "nbformat": 4,
 "nbformat_minor": 2
}
